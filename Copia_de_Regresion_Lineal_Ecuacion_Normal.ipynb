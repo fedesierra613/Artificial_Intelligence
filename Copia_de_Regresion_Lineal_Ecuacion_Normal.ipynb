{
  "nbformat": 4,
  "nbformat_minor": 0,
  "metadata": {
    "colab": {
      "name": "Copia de Regresion_Lineal_Ecuacion_Normal.ipynb",
      "provenance": [],
      "collapsed_sections": [],
      "include_colab_link": true
    },
    "kernelspec": {
      "name": "python3",
      "display_name": "Python 3"
    }
  },
  "cells": [
    {
      "cell_type": "markdown",
      "metadata": {
        "id": "view-in-github",
        "colab_type": "text"
      },
      "source": [
        "<a href=\"https://colab.research.google.com/github/fedesierra613/Inteligencia_Artificial/blob/main/Copia_de_Regresion_Lineal_Ecuacion_Normal.ipynb\" target=\"_parent\"><img src=\"https://colab.research.google.com/assets/colab-badge.svg\" alt=\"Open In Colab\"/></a>"
      ]
    },
    {
      "cell_type": "code",
      "metadata": {
        "id": "llVA8wyRY0G3"
      },
      "source": [
        "import numpy as np\n",
        "import matplotlib.pyplot as plt\n",
        "from sklearn.linear_model import LinearRegression\n",
        "import seaborn as sns\n",
        "sns.set(style='whitegrid')"
      ],
      "execution_count": 1,
      "outputs": []
    },
    {
      "cell_type": "markdown",
      "metadata": {
        "id": "QJfdc8LEZ9uE"
      },
      "source": [
        "# Iniciemos con  la regresión lineal univariada"
      ]
    },
    {
      "cell_type": "markdown",
      "metadata": {
        "id": "iizoLmZLZ9JO"
      },
      "source": [
        ""
      ]
    },
    {
      "cell_type": "code",
      "metadata": {
        "id": "MlFJgRQzZmUV",
        "colab": {
          "base_uri": "https://localhost:8080/"
        },
        "outputId": "47283606-c68d-4747-97f4-7d3325d5d63a"
      },
      "source": [
        "x1=np.array([1, 1.5, 2, 2.5, 3, 3.5 , 4, 4.5, 5, 5.5, 6])\n",
        "x0=np.ones(x1.shape)\n",
        "y=np.array([0.16,0.28,0.38,0.47,0.60,0.73,0.79,0.87,0.84,0.86,0.96])\n",
        "X=np.matrix([x0,x1]).T\n",
        "Y=np.matrix([y]).T\n",
        "print(\"shape x0\",x0.shape,\"shape x1\",x1.shape,\"shape X\",X.shape,\"shape Y\",Y.shape)\n",
        "print(X)\n",
        "print(Y)"
      ],
      "execution_count": 2,
      "outputs": [
        {
          "output_type": "stream",
          "name": "stdout",
          "text": [
            "shape x0 (11,) shape x1 (11,) shape X (11, 2) shape Y (11, 1)\n",
            "[[1.  1. ]\n",
            " [1.  1.5]\n",
            " [1.  2. ]\n",
            " [1.  2.5]\n",
            " [1.  3. ]\n",
            " [1.  3.5]\n",
            " [1.  4. ]\n",
            " [1.  4.5]\n",
            " [1.  5. ]\n",
            " [1.  5.5]\n",
            " [1.  6. ]]\n",
            "[[0.16]\n",
            " [0.28]\n",
            " [0.38]\n",
            " [0.47]\n",
            " [0.6 ]\n",
            " [0.73]\n",
            " [0.79]\n",
            " [0.87]\n",
            " [0.84]\n",
            " [0.86]\n",
            " [0.96]]\n"
          ]
        }
      ]
    },
    {
      "cell_type": "code",
      "metadata": {
        "id": "Lhcl-dX-aFE6",
        "colab": {
          "base_uri": "https://localhost:8080/",
          "height": 318
        },
        "outputId": "02d3ad89-92d4-4aa2-eb75-5de43fac38b7"
      },
      "source": [
        "Theta=np.linalg.inv(X.T*X)*(X.T)*Y\n",
        "print(Theta)\n",
        "plt.plot(x1,y, 'bo')\n",
        "plt.plot(x1,Theta[0,0]+Theta[1,0]*x1)\n",
        "plt.title(\"Final\")\n",
        "plt.show()"
      ],
      "execution_count": 3,
      "outputs": [
        {
          "output_type": "stream",
          "name": "stdout",
          "text": [
            "[[0.07790909]\n",
            " [0.158     ]]\n"
          ]
        },
        {
          "output_type": "display_data",
          "data": {
            "image/png": "[encoded data removed]",
            "text/plain": [
              "<Figure size 432x288 with 1 Axes>"
            ]
          },
          "metadata": {
            "needs_background": "light"
          }
        }
      ]
    },
    {
      "cell_type": "code",
      "metadata": {
        "id": "aOuVB_Dwb_Bh",
        "colab": {
          "base_uri": "https://localhost:8080/"
        },
        "outputId": "b45747a6-35e3-4c52-8c19-26ffdd613aea"
      },
      "source": [
        "y_est=x0*Theta[0,0]+x1*Theta[1,0]\n",
        "print(y_est)\n",
        "varianza=y.var()\n",
        "#print(varianza)\n",
        "R0 = np.sum( np.power( ( y_est-varianza ) ,2) )\n",
        "R1 = np.sum( np.power( ( y-varianza ) ,2) )\n",
        "R2 = R0/R1\n",
        "print(\"R cuadrado = \",R2)"
      ],
      "execution_count": null,
      "outputs": [
        {
          "output_type": "stream",
          "name": "stdout",
          "text": [
            "[0.23590909 0.31490909 0.39390909 0.47290909 0.55190909 0.63090909\n",
            " 0.70990909 0.78890909 0.86790909 0.94690909 1.02590909]\n",
            "R cuadrado =  0.9893803623391579\n"
          ]
        }
      ]
    },
    {
      "cell_type": "markdown",
      "metadata": {
        "id": "sjXYPpsAkN_o"
      },
      "source": [
        "# Regresion Multivariada de ejemplo"
      ]
    },
    {
      "cell_type": "code",
      "metadata": {
        "id": "Y_0XYjt7hS6g"
      },
      "source": [
        "import pandas as pd\n",
        "import numpy as np\n",
        "df=pd.read_csv(\"Datos_multivariados.csv\", sep=';',header=0)#https://pandas.pydata.org/pandas-docs/stable/reference/api/pandas.read_csv.html\n",
        "arr=df.values\n",
        "YCOL=3\n",
        "Xb=arr[:,0:YCOL]\n",
        "Xa=np.ones((len(Xb),1))\n",
        "X=np.concatenate((Xa,Xb),axis=1)\n",
        "Y=arr[:,YCOL]\n",
        "Theta=np.dot(np.linalg.inv(np.dot(X.T,X)),np.dot(X.T,Y))\n"
      ],
      "execution_count": null,
      "outputs": []
    },
    {
      "cell_type": "code",
      "metadata": {
        "id": "QtszkyOumMHG",
        "colab": {
          "base_uri": "https://localhost:8080/"
        },
        "outputId": "b8a4f033-e7f6-49ce-8f42-9eab9fdcc967"
      },
      "source": [
        "print(Theta)\n",
        "\n"
      ],
      "execution_count": null,
      "outputs": [
        {
          "output_type": "stream",
          "name": "stdout",
          "text": [
            "[[0.07790909]\n",
            " [0.158     ]]\n"
          ]
        }
      ]
    },
    {
      "cell_type": "code",
      "metadata": {
        "id": "tssiZVwnoPIN"
      },
      "source": [
        ""
      ],
      "execution_count": null,
      "outputs": []
    }
  ]
}